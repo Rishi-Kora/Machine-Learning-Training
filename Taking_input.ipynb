{
  "nbformat": 4,
  "nbformat_minor": 0,
  "metadata": {
    "colab": {
      "name": "Taking input.ipynb",
      "provenance": [],
      "collapsed_sections": []
    },
    "kernelspec": {
      "name": "python3",
      "display_name": "Python 3"
    },
    "language_info": {
      "name": "python"
    }
  },
  "cells": [
    {
      "cell_type": "code",
      "execution_count": null,
      "metadata": {
        "colab": {
          "base_uri": "https://localhost:8080/"
        },
        "id": "cc4d83EHsZkL",
        "outputId": "ce2c8e0b-08eb-4080-c32f-82b290a402be"
      },
      "outputs": [
        {
          "output_type": "stream",
          "name": "stdout",
          "text": [
            "Enter your Name Rishi\n",
            "Rishi\n"
          ]
        }
      ],
      "source": [
        "input_=input(\"Enter your Name \")\n",
        "print(input_)"
      ]
    },
    {
      "cell_type": "code",
      "source": [
        "input_=int(input(\"Enter any Number \"))\n",
        "print(input_)"
      ],
      "metadata": {
        "colab": {
          "base_uri": "https://localhost:8080/"
        },
        "id": "IodhtoDVs66_",
        "outputId": "7565041e-4460-4ddd-fc04-d51c71f7b337"
      },
      "execution_count": null,
      "outputs": [
        {
          "output_type": "stream",
          "name": "stdout",
          "text": [
            "Enter any Number 90\n",
            "90\n"
          ]
        }
      ]
    },
    {
      "cell_type": "code",
      "source": [
        "a = 5\n",
        "b = 40.5\n",
        "print(type(a))\n",
        "print(type(b))\n",
        "c = print(float(a+b))"
      ],
      "metadata": {
        "colab": {
          "base_uri": "https://localhost:8080/"
        },
        "id": "s0kc5vecy7do",
        "outputId": "730b70a0-80f3-45e5-ebf4-76624f7a22f3"
      },
      "execution_count": null,
      "outputs": [
        {
          "output_type": "stream",
          "name": "stdout",
          "text": [
            "<class 'int'>\n",
            "<class 'float'>\n",
            "45.5\n"
          ]
        }
      ]
    }
  ]
}